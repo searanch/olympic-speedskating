import pandas as pd 

# Load file
df=pd.read_csv('2018-Olympics-L-3000.csv')
df
